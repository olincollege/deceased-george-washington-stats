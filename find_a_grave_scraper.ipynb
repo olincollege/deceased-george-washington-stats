{
 "cells": [
  {
   "cell_type": "markdown",
   "metadata": {},
   "source": [
    "### Load all of the packages"
   ]
  },
  {
   "cell_type": "markdown",
   "metadata": {},
   "source": [
    "### Download the HTML of a Certain Page and Name"
   ]
  },
  {
   "cell_type": "code",
   "execution_count": 1,
   "metadata": {},
   "outputs": [],
   "source": [
    "from bs4 import BeautifulSoup\n",
    "import requests\n",
    "import sys\n",
    "import pandas as pd\n",
    "from geopy.geocoders import Nominatim"
   ]
  },
  {
   "cell_type": "code",
   "execution_count": 2,
   "metadata": {},
   "outputs": [],
   "source": [
    "def get_file(first_name, last_name, page):\n",
    "    # define search url based on user input\n",
    "    url = (\n",
    "        f\"https://www.findagrave.com/memorial/search?firstname={first_name}&\"\n",
    "        f\"middlename=&lastname={last_name}&birthyear=&birthyearfilter=&\"\n",
    "        \"deathyear=&deathyearfilter=&location=&locationId=&memorialid=&mcid=&\"\n",
    "        f\"linkedToName=&datefilter=&orderby=r&plot=&page={page}#sr-1075\")\n",
    "\n",
    "    page_HTML = requests.get(url) # HTML from URL\n",
    "\n",
    "    # successful url request code is 200\n",
    "    if page_HTML.status_code != 200:\n",
    "        sys.exit(\"Connection Failed.\") # stop execution and return error\n",
    "\n",
    "    return page_HTML"
   ]
  },
  {
   "cell_type": "markdown",
   "metadata": {},
   "source": [
    "### Go Through All Entries for a Certain Name and Return a Dataframe"
   ]
  },
  {
   "cell_type": "code",
   "execution_count": 110,
   "metadata": {},
   "outputs": [],
   "source": [
    "def get_info(first_name=\"George\", last_name=\"Washington\"):\n",
    "    # Define the empty dataframe\n",
    "    data_table = pd.DataFrame(columns = [\"Names\", \"Birth Year\", \"Death Year\", \"Location of Grave\"])\n",
    "\n",
    "    # get HTML of first page\n",
    "    page = get_file(first_name, last_name, \"1\")\n",
    "    # parse HTML into Beautiful Soup format\n",
    "    parsed = BeautifulSoup(page.content, \"html.parser\")\n",
    "\n",
    "    # find the div containing the maximum number of pages and specify the max\n",
    "    # element in the BeautifulSoup data structure as if it was a dictionary with\n",
    "    # a key value \"max\"\n",
    "    max_page = (parsed.find(id = \"gotoPage\"))[\"max\"]\n",
    "\n",
    "    # collect data from all pages\n",
    "    for page_number in range(int(max_page)):\n",
    "\n",
    "        # get HTML of specified page number\n",
    "        page = get_file(first_name, last_name, str(page_number + 1))\n",
    "\n",
    "        # parse HTML into Beautiful Soup format\n",
    "        parsed = BeautifulSoup(page.content, \"html.parser\")\n",
    "\n",
    "        # each memorial-item is a tag for a grave entry in the database\n",
    "        # HTML note: tags act like containers that contain attributes and text\n",
    "        memorial_list = parsed.find_all(class_ = \"memorial-item\")\n",
    "\n",
    "        # Iterate through each memorial and only collect useful data\n",
    "        for memorial_item in memorial_list:\n",
    "            # double check that first name is George and last name is Washington\n",
    "            # A blank space after first name eliminates the possibility of names like \"Georgette\"\n",
    "            if memorial_item.find(\"i\") is not None and memorial_item.find(\"i\").string is not None and first_name+' ' in memorial_item.find(\"i\").string and ''+ last_name in memorial_item.find(\"i\").string:\n",
    "                # if it passes all these tests, take the the data from this memorial\n",
    "                name = memorial_item.find(\"i\").string\n",
    "               \n",
    "                # grave address\n",
    "                if memorial_item.find(\"p\", attrs = {'class':'addr-cemet'}) is not None:\n",
    "                    # find the text in <p> with class = addr-cemet\n",
    "                    grave_address = memorial_item.find(\"p\", attrs = {'class':'addr-cemet'}).string\n",
    "                else: grave_address = \"NA\"\n",
    "\n",
    "                # dates of birth and death\n",
    "                if memorial_item.find(class_ = \"birthDeathDates\") is not None and \"unknown\" not in memorial_item.find(class_ = \"birthDeathDates\").string:\n",
    "                    # dates of birth/death are stored in class \"birthDeathDates\"\n",
    "                    date = memorial_item.find(class_ = \"birthDeathDates\").string\n",
    "                \n",
    "                    # split birth and death dates\n",
    "                    birth_death_raw = date.split(\"–\")\n",
    "\n",
    "                    # clean up date formatting\n",
    "                    for index, date in enumerate(birth_death_raw):\n",
    "                        # get rid of letters\n",
    "                        date = \"\".join(filter(str.isdigit, date))\n",
    "                        # as long as the string is greater than 3 charaters (a\n",
    "                        # month abbreviation) take the last 4 characters (the\n",
    "                        # year)\n",
    "                        date = date.strip()\n",
    "                        if len(date) > 3:\n",
    "                            date = date[-4:]\n",
    "                        else:\n",
    "                            date = \"NA\"\n",
    "                        birth_death[index] = date\n",
    "\n",
    "                    birth_year = birth_death[0]\n",
    "                    death_year = birth_death[1]\n",
    "\n",
    "                else:\n",
    "                    birth_year = \"NA\"\n",
    "                    death_year = \"NA\"\n",
    "\n",
    "                # record scraped data in data frame\n",
    "                data_table = data_table.append({\"Names\": name.strip(), \"Birth Year\": birth_year, \"Death Year\": death_year, \"Location of Grave\": grave_address}, ignore_index= True)\n",
    "    \n",
    "    \n",
    "    #! get rid of any NA values\n",
    "    data_table = data_table.dropna()\n",
    "\n",
    "    return data_table"
   ]
  },
  {
   "cell_type": "code",
   "execution_count": 111,
   "metadata": {},
   "outputs": [],
   "source": [
    "data = get_info()"
   ]
  },
  {
   "cell_type": "code",
   "execution_count": 5,
   "metadata": {},
   "outputs": [],
   "source": [
    "# add column for years lived\n",
    "# data =\n",
    "# data[\"Birth_Year\"] = pd.to_numeric(data[\"Birth_Year\"])\n",
    "\n",
    "\n",
    "# data[\"Death_Year\"] - data[\"Birth_Year\"]\n",
    "birth_stats = birth_stats.astype(int)"
   ]
  },
  {
   "cell_type": "markdown",
   "metadata": {},
   "source": [
    "Create new data frame just for analyzing birth statistics"
   ]
  },
  {
   "cell_type": "code",
   "execution_count": 34,
   "metadata": {},
   "outputs": [],
   "source": [
    "#count the number of times named individual was born for each year\n",
    "birth_stats = data[\"Birth Year\"].value_counts()\n",
    "\n",
    "#convert the count series into a dataframe\n",
    "birth_stats = birth_stats.to_frame()\n",
    "\n",
    "#for some reason count makes the objects it is counting an index so we need to make them a column\n",
    "birth_stats.reset_index(inplace=True)\n",
    "\n",
    "# rename columns for better clarity\n",
    "birth_stats = birth_stats.rename(columns={\"index\": \"Year\", \"Birth Year\": \"Birth Count\"})\n",
    "\n",
    "# filter out and delete entries with months instead of years\n",
    "birth_stats = birth_stats[~birth_stats.Year.str.contains(\"A|B|C|D|E|F|G|H|I|J|K|L|M|N|O|P|Q|R|S|T|U|V|W|X|Y|Z|a|b|c|d|e|f|g|h|i|j|k|l|m|n|o|p|q|r|s|t|u|v|w|x|y|z\")]\n",
    "\n",
    "# convert all years and birth counts to integers\n",
    "birth_stats = birth_stats.astype(int)"
   ]
  }
 ],
 "metadata": {
  "interpreter": {
   "hash": "53bd7f13955accc32fb70e0d5171fbbae9113855343752f22af5971c54171877"
  },
  "kernelspec": {
   "display_name": "Python 3.9.7 ('base')",
   "language": "python",
   "name": "python3"
  },
  "language_info": {
   "codemirror_mode": {
    "name": "ipython",
    "version": 3
   },
   "file_extension": ".py",
   "mimetype": "text/x-python",
   "name": "python",
   "nbconvert_exporter": "python",
   "pygments_lexer": "ipython3",
   "version": "3.9.7"
  },
  "orig_nbformat": 4
 },
 "nbformat": 4,
 "nbformat_minor": 2
}
