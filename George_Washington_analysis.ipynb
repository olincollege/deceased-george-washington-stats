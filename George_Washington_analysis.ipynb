{
 "cells": [
  {
   "cell_type": "markdown",
   "metadata": {},
   "source": [
    "# George Washington [Something, something, Title here]\n",
    "\n",
    "Kat Canavan and Phillip Post\n"
   ]
  },
  {
   "cell_type": "markdown",
   "metadata": {},
   "source": [
    "First, import libraries/ packages:"
   ]
  },
  {
   "cell_type": "code",
   "execution_count": 2,
   "metadata": {},
   "outputs": [],
   "source": [
    "import pandas as pd\n",
    "from geopy.geocoders import Nominatim as geo"
   ]
  },
  {
   "cell_type": "markdown",
   "metadata": {},
   "source": [
    "##### (Optional) uncomment the following cell to run data collection"
   ]
  },
  {
   "cell_type": "code",
   "execution_count": null,
   "metadata": {},
   "outputs": [],
   "source": [
    "# import find_a_grave_scraper as scraper\n",
    "# scraped_data = scraper.get_info()\n",
    "# scraped_data.to_csv('Scraper_Data.csv', index = False)"
   ]
  },
  {
   "cell_type": "markdown",
   "metadata": {},
   "source": [
    "### Section title here\n",
    "\n",
    "For the purpose of this notebook (so that we don't tax findagrave.com's servers) we're going to use a csv file we already prepared with the code above. Now we need to unpack that file back into a data frame.\n",
    "Note: If you want to run the rest of the worksheet with your own data from the previous cell, change the name of the file here to \"Scraper_Data.csv\"."
   ]
  },
  {
   "cell_type": "code",
   "execution_count": 5,
   "metadata": {},
   "outputs": [],
   "source": [
    "data_frame = pd.read_csv('George_Washingtons.csv')"
   ]
  }
 ],
 "metadata": {
  "interpreter": {
   "hash": "f310188001675c1f502a725545fa00f15c4050732bb8fd271337ff6f5bdb9aab"
  },
  "kernelspec": {
   "display_name": "Python 3.9.7 ('base')",
   "language": "python",
   "name": "python3"
  },
  "language_info": {
   "codemirror_mode": {
    "name": "ipython",
    "version": 3
   },
   "file_extension": ".py",
   "mimetype": "text/x-python",
   "name": "python",
   "nbconvert_exporter": "python",
   "pygments_lexer": "ipython3",
   "version": "3.9.7"
  },
  "orig_nbformat": 4
 },
 "nbformat": 4,
 "nbformat_minor": 2
}
